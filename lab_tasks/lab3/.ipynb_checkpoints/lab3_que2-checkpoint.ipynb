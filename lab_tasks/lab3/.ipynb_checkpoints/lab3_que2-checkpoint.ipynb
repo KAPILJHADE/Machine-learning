{
 "cells": [
  {
   "cell_type": "code",
   "execution_count": 2,
   "metadata": {},
   "outputs": [],
   "source": [
    "from mpl_toolkits import mplot3d"
   ]
  },
  {
   "cell_type": "code",
   "execution_count": 3,
   "metadata": {},
   "outputs": [],
   "source": [
    "import matplotlib.pyplot as plt"
   ]
  },
  {
   "cell_type": "code",
   "execution_count": 4,
   "metadata": {},
   "outputs": [],
   "source": [
    "import numpy as np"
   ]
  },
  {
   "cell_type": "code",
   "execution_count": 5,
   "metadata": {},
   "outputs": [],
   "source": [
    "import random"
   ]
  },
  {
   "cell_type": "code",
   "execution_count": 6,
   "metadata": {},
   "outputs": [],
   "source": [
    "import math"
   ]
  },
  {
   "cell_type": "code",
   "execution_count": 7,
   "metadata": {},
   "outputs": [
    {
     "data": {
      "text/plain": [
       "array([0.        , 0.72222222, 1.44444444, 2.16666667, 2.88888889,\n",
       "       3.61111111, 4.33333333, 5.05555556, 5.77777778, 6.5       ])"
      ]
     },
     "execution_count": 7,
     "metadata": {},
     "output_type": "execute_result"
    }
   ],
   "source": [
    "x_true=np.linspace(0,6.5,100)\n",
    "y_true=np.linspace(0,6.5,100)\n",
    "x = np.linspace(0,6.5,10)\n",
    "y=[]\n",
    "x"
   ]
  },
  {
   "cell_type": "code",
   "execution_count": 8,
   "metadata": {},
   "outputs": [
    {
     "data": {
      "text/plain": [
       "array([ 0.07938579,  0.70787648,  0.80621092,  0.8172393 ,  0.22724267,\n",
       "       -0.44080061, -0.98037565, -0.8180317 , -0.51392187,  0.2299967 ])"
      ]
     },
     "execution_count": 8,
     "metadata": {},
     "output_type": "execute_result"
    }
   ],
   "source": [
    "y=np.sin(x)\n",
    "noise= np.random.randn(10)\n",
    "noise=noise/10\n",
    "yn=y+noise\n",
    "yn"
   ]
  },
  {
   "cell_type": "code",
   "execution_count": 9,
   "metadata": {},
   "outputs": [
    {
     "data": {
      "image/png": "[encoded data removed]",
      "text/plain": [
       "<Figure size 432x288 with 1 Axes>"
      ]
     },
     "metadata": {
      "needs_background": "light"
     },
     "output_type": "display_data"
    }
   ],
   "source": [
    "plt.plot(x,y)\n",
    "plt.scatter(x,yn)\n",
    "plt.show()"
   ]
  },
  {
   "cell_type": "code",
   "execution_count": 15,
   "metadata": {
    "scrolled": true
   },
   "outputs": [
    {
     "data": {
      "text/plain": [
       "[[1.0, 0.0, 0.0, 0.0, 0.0, 0.0, 0.0, 0.0, 0.0],\n",
       " [1.0,\n",
       "  0.7222222222222222,\n",
       "  0.5216049382716049,\n",
       "  0.37671467764060357,\n",
       "  0.27207171162932475,\n",
       "  0.19649623617673456,\n",
       "  0.14191394834986384,\n",
       "  0.10249340714156834,\n",
       "  0.07402301626891046],\n",
       " [1.0,\n",
       "  1.4444444444444444,\n",
       "  2.0864197530864197,\n",
       "  3.0137174211248285,\n",
       "  4.353147386069196,\n",
       "  6.287879557655506,\n",
       "  9.082492694391286,\n",
       "  13.119156114120747,\n",
       "  18.949892164841078],\n",
       " [1.0,\n",
       "  2.1666666666666665,\n",
       "  4.694444444444444,\n",
       "  10.171296296296294,\n",
       "  22.037808641975303,\n",
       "  47.74858539094649,\n",
       "  103.45526834705072,\n",
       "  224.15308141860987,\n",
       "  485.66500974032135],\n",
       " [1.0,\n",
       "  2.888888888888889,\n",
       "  8.345679012345679,\n",
       "  24.10973936899863,\n",
       "  69.65035817710714,\n",
       "  201.2121458449762,\n",
       "  581.2795324410423,\n",
       "  1679.2519826074556,\n",
       "  4851.172394199316],\n",
       " [1.0,\n",
       "  3.611111111111111,\n",
       "  13.040123456790123,\n",
       "  47.089334705075444,\n",
       "  170.044819768328,\n",
       "  614.0507380522956,\n",
       "  2217.405442966623,\n",
       "  8007.297432935027,\n",
       "  28915.240730043155],\n",
       " [1.0,\n",
       "  4.333333333333333,\n",
       "  18.777777777777775,\n",
       "  81.37037037037035,\n",
       "  352.60493827160485,\n",
       "  1527.9547325102876,\n",
       "  6621.137174211246,\n",
       "  28691.594421582064,\n",
       "  124330.24249352227],\n",
       " [1.0,\n",
       "  5.055555555555555,\n",
       "  25.55864197530864,\n",
       "  129.213134430727,\n",
       "  653.2441796220087,\n",
       "  3302.5122414223774,\n",
       "  16696.03410941313,\n",
       "  84407.72799758859,\n",
       "  426727.9582100312],\n",
       " [1.0,\n",
       "  5.777777777777778,\n",
       "  33.382716049382715,\n",
       "  192.87791495198903,\n",
       "  1114.4057308337142,\n",
       "  6438.788667039238,\n",
       "  37201.89007622671,\n",
       "  214944.25377375432,\n",
       "  1241900.1329150249],\n",
       " [1.0,\n",
       "  6.5,\n",
       "  42.25,\n",
       "  274.625,\n",
       "  1785.0625,\n",
       "  11602.90625,\n",
       "  75418.890625,\n",
       "  490222.7890625,\n",
       "  3186448.12890625]]"
      ]
     },
     "execution_count": 15,
     "metadata": {},
     "output_type": "execute_result"
    }
   ],
   "source": [
    "Xm=list()\n",
    "for i in range(10):\n",
    "    temp=list()\n",
    "    for j in range(9):\n",
    "        a=pow(x[i],j)\n",
    "        temp.append(a)\n",
    "    Xm.append(temp)\n",
    "        \n",
    "Xm"
   ]
  },
  {
   "cell_type": "code",
   "execution_count": 16,
   "metadata": {},
   "outputs": [
    {
     "data": {
      "text/plain": [
       "array([[1.00000000e+00, 0.00000000e+00, 0.00000000e+00, 0.00000000e+00,\n",
       "        0.00000000e+00, 0.00000000e+00, 0.00000000e+00, 0.00000000e+00,\n",
       "        0.00000000e+00],\n",
       "       [1.00000000e+00, 7.22222222e-01, 5.21604938e-01, 3.76714678e-01,\n",
       "        2.72071712e-01, 1.96496236e-01, 1.41913948e-01, 1.02493407e-01,\n",
       "        7.40230163e-02],\n",
       "       [1.00000000e+00, 1.44444444e+00, 2.08641975e+00, 3.01371742e+00,\n",
       "        4.35314739e+00, 6.28787956e+00, 9.08249269e+00, 1.31191561e+01,\n",
       "        1.89498922e+01],\n",
       "       [1.00000000e+00, 2.16666667e+00, 4.69444444e+00, 1.01712963e+01,\n",
       "        2.20378086e+01, 4.77485854e+01, 1.03455268e+02, 2.24153081e+02,\n",
       "        4.85665010e+02],\n",
       "       [1.00000000e+00, 2.88888889e+00, 8.34567901e+00, 2.41097394e+01,\n",
       "        6.96503582e+01, 2.01212146e+02, 5.81279532e+02, 1.67925198e+03,\n",
       "        4.85117239e+03],\n",
       "       [1.00000000e+00, 3.61111111e+00, 1.30401235e+01, 4.70893347e+01,\n",
       "        1.70044820e+02, 6.14050738e+02, 2.21740544e+03, 8.00729743e+03,\n",
       "        2.89152407e+04],\n",
       "       [1.00000000e+00, 4.33333333e+00, 1.87777778e+01, 8.13703704e+01,\n",
       "        3.52604938e+02, 1.52795473e+03, 6.62113717e+03, 2.86915944e+04,\n",
       "        1.24330242e+05],\n",
       "       [1.00000000e+00, 5.05555556e+00, 2.55586420e+01, 1.29213134e+02,\n",
       "        6.53244180e+02, 3.30251224e+03, 1.66960341e+04, 8.44077280e+04,\n",
       "        4.26727958e+05],\n",
       "       [1.00000000e+00, 5.77777778e+00, 3.33827160e+01, 1.92877915e+02,\n",
       "        1.11440573e+03, 6.43878867e+03, 3.72018901e+04, 2.14944254e+05,\n",
       "        1.24190013e+06],\n",
       "       [1.00000000e+00, 6.50000000e+00, 4.22500000e+01, 2.74625000e+02,\n",
       "        1.78506250e+03, 1.16029062e+04, 7.54188906e+04, 4.90222789e+05,\n",
       "        3.18644813e+06]])"
      ]
     },
     "execution_count": 16,
     "metadata": {},
     "output_type": "execute_result"
    }
   ],
   "source": [
    "Y=np.array(yn)\n",
    "Y\n",
    "X=np.array(Xm)\n",
    "X"
   ]
  },
  {
   "cell_type": "code",
   "execution_count": 17,
   "metadata": {},
   "outputs": [
    {
     "name": "stdout",
     "output_type": "stream",
     "text": [
      "[ 7.97924032e-02  2.38238881e+00 -3.78543750e+00  3.18671480e+00\n",
      " -1.38366189e+00  2.96599355e-01 -2.81849466e-02  5.44789179e-04\n",
      "  4.91347152e-05]\n"
     ]
    }
   ],
   "source": [
    "W=np.dot(np.dot(np.linalg.inv(np.dot(X.T,X)),X.T),Y.T)\n",
    "print(W)"
   ]
  },
  {
   "cell_type": "code",
   "execution_count": 18,
   "metadata": {},
   "outputs": [
    {
     "name": "stdout",
     "output_type": "stream",
     "text": [
      "[ 0.0797924   0.70427093  0.82065262  0.78355097  0.2777794  -0.49133534\n",
      " -0.94668521 -0.8324707  -0.51031316  0.22959371]\n"
     ]
    }
   ],
   "source": [
    "yp=np.dot(W,X.T)\n",
    "#print (X.T)\n",
    "print(yp)"
   ]
  },
  {
   "cell_type": "code",
   "execution_count": 19,
   "metadata": {},
   "outputs": [
    {
     "data": {
      "image/png": "[encoded data removed]",
      "text/plain": [
       "<Figure size 432x288 with 1 Axes>"
      ]
     },
     "metadata": {
      "needs_background": "light"
     },
     "output_type": "display_data"
    }
   ],
   "source": [
    "plt.plot(x_true,y_true)\n",
    "plt.plot(x,yp)\n",
    "plt.scatter(x,yn)\n",
    "plt.show()"
   ]
  },
  {
   "cell_type": "code",
   "execution_count": null,
   "metadata": {},
   "outputs": [],
   "source": []
  },
  {
   "cell_type": "code",
   "execution_count": null,
   "metadata": {},
   "outputs": [],
   "source": []
  }
 ],
 "metadata": {
  "kernelspec": {
   "display_name": "Python 3",
   "language": "python",
   "name": "python3"
  },
  "language_info": {
   "codemirror_mode": {
    "name": "ipython",
    "version": 3
   },
   "file_extension": ".py",
   "mimetype": "text/x-python",
   "name": "python",
   "nbconvert_exporter": "python",
   "pygments_lexer": "ipython3",
   "version": "3.6.9"
  }
 },
 "nbformat": 4,
 "nbformat_minor": 4
}

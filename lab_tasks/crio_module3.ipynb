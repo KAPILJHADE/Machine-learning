{
 "cells": [
  {
   "cell_type": "code",
   "execution_count": 2,
   "metadata": {},
   "outputs": [
    {
     "name": "stdout",
     "output_type": "stream",
     "text": [
      "<Response [200]>\n",
      "\n",
      "['rice', 'meat', 'vegetable', 'paella', 'chicken', 'pilaf', 'saffron', 'pepper', 'pork', 'fried rice', 'shrimp', 'risotto', 'curry', 'seafood', 'sauce', 'onion', 'chicken curry', 'prawn', 'chili', 'rice flake']\n"
     ]
    }
   ],
   "source": [
    "import json\n",
    "import requests\n",
    "\n",
    "def findkeys(node, kv):\n",
    "    if isinstance(node, list):\n",
    "        for i in node:\n",
    "            for x in findkeys(i, kv):\n",
    "                if x == 'food-items-v1.0':\n",
    "                   print('')\n",
    "                else :\n",
    "                    yield x\n",
    "    elif isinstance(node, dict):\n",
    "        if kv in node:\n",
    "            yield node[kv]\n",
    "        for j in node.values():\n",
    "            for x in findkeys(j, kv):\n",
    "                if x == 'food-items-v1.0':\n",
    "                   print('')\n",
    "                else:\n",
    "                    yield x\n",
    "\n",
    "def get_tags_suggestions(image_url):\n",
    "    headers = {\n",
    "    'Authorization': 'Key 407af2f185ac4303bfc5f0335360b549', #407af2f185ac4303bfc5f0335360b549 is api key\n",
    "    'Content-Type': 'application/json',\n",
    "    }\n",
    "    data = '{\"inputs\": [{\"data\": {\"image\": {\"url\": \"'+image_url+'\"}}}]}'\n",
    "\n",
    "    response = requests.post('https://api.clarifai.com/v2/models/bd367be194cf45149e75f01d59f77ba7/outputs', headers=headers, data=data)\n",
    "    print(response)\n",
    "    json_data = json.loads(response.text)\n",
    "    data=list(findkeys(json_data,'name'))\n",
    "    return data\n",
    "\n",
    "\n",
    "if __name__ == '__main__':\n",
    "    test_image_url = 'https://m.recipes.timesofindia.com/recipes/chicken-dum-biryani/photo/54308405.cms' #provide image url\n",
    "    tags_suggessted = get_tags_suggestions(test_image_url)\n",
    "    print(tags_suggessted)"
   ]
  },
  {
   "cell_type": "code",
   "execution_count": null,
   "metadata": {},
   "outputs": [],
   "source": []
  }
 ],
 "metadata": {
  "kernelspec": {
   "display_name": "Python 3",
   "language": "python",
   "name": "python3"
  },
  "language_info": {
   "codemirror_mode": {
    "name": "ipython",
    "version": 3
   },
   "file_extension": ".py",
   "mimetype": "text/x-python",
   "name": "python",
   "nbconvert_exporter": "python",
   "pygments_lexer": "ipython3",
   "version": "3.6.9"
  }
 },
 "nbformat": 4,
 "nbformat_minor": 4
}
